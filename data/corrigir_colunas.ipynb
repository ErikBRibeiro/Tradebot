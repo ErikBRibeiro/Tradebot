{
 "cells": [
  {
   "cell_type": "code",
   "execution_count": 4,
   "metadata": {},
   "outputs": [
    {
     "name": "stdout",
     "output_type": "stream",
     "text": [
      "Os nomes das colunas foram ajustados, as colunas de preço foram formatadas e os arquivos foram salvos com sucesso.\n"
     ]
    }
   ],
   "source": [
    "import pandas as pd\n",
    "\n",
    "# Função para ajustar o nome das colunas\n",
    "def adjust_column_names(df):\n",
    "    df.columns = [col.lower().replace(' ', '_') for col in df.columns]\n",
    "    return df\n",
    "\n",
    "# Função para formatar colunas de preço para duas casas decimais\n",
    "def format_price_columns(df):\n",
    "    df[['open', 'high', 'low', 'close']] = df[['open', 'high', 'low', 'close']].astype(float).round(2)\n",
    "    return df\n",
    "\n",
    "# Definir o caminho base para os arquivos\n",
    "base_path = r'C:\\Users\\erik\\OneDrive\\Documents\\Erik\\Tradebot\\data'\n",
    "\n",
    "# Carregar os datasets\n",
    "eth_w_data = pd.read_csv(f'{base_path}\\ETH_w_candles.csv')\n",
    "eth_d_data = pd.read_csv(f'{base_path}\\ETH_daily_candles.csv')\n",
    "eth_h_data = pd.read_csv(f'{base_path}\\ETH_hour_candles.csv')\n",
    "eth_15m_data = pd.read_csv(f'{base_path}\\ETH_15m_candles.csv')\n",
    "eth_5m_data = pd.read_csv(f'{base_path}\\ETH_5m_candles.csv')\n",
    "\n",
    "# Ajustar os nomes das colunas e formatar colunas de preço\n",
    "eth_w_data = adjust_column_names(eth_w_data)\n",
    "eth_w_data = format_price_columns(eth_w_data)\n",
    "\n",
    "eth_d_data = adjust_column_names(eth_d_data)\n",
    "eth_d_data = format_price_columns(eth_d_data)\n",
    "\n",
    "eth_h_data = adjust_column_names(eth_h_data)\n",
    "eth_h_data = format_price_columns(eth_h_data)\n",
    "\n",
    "eth_15m_data = adjust_column_names(eth_15m_data)\n",
    "eth_15m_data = format_price_columns(eth_15m_data)\n",
    "\n",
    "eth_5m_data = adjust_column_names(eth_5m_data)\n",
    "eth_5m_data = format_price_columns(eth_5m_data)\n",
    "\n",
    "# Salvar os datasets ajustados\n",
    "eth_w_data.to_csv(f'{base_path}\\ETH_w_candles.csv', index=False)\n",
    "eth_d_data.to_csv(f'{base_path}\\ETH_daily_candles.csv', index=False)\n",
    "eth_h_data.to_csv(f'{base_path}\\ETH_hour_candles.csv', index=False)\n",
    "eth_15m_data.to_csv(f'{base_path}\\ETH_15m_candles.csv', index=False)\n",
    "eth_5m_data.to_csv(f'{base_path}\\ETH_5m_candles.csv', index=False)\n",
    "\n",
    "print(\"Os nomes das colunas foram ajustados, as colunas de preço foram formatadas e os arquivos foram salvos com sucesso.\")\n"
   ]
  },
  {
   "cell_type": "code",
   "execution_count": null,
   "metadata": {},
   "outputs": [],
   "source": []
  }
 ],
 "metadata": {
  "kernelspec": {
   "display_name": "base",
   "language": "python",
   "name": "python3"
  },
  "language_info": {
   "codemirror_mode": {
    "name": "ipython",
    "version": 3
   },
   "file_extension": ".py",
   "mimetype": "text/x-python",
   "name": "python",
   "nbconvert_exporter": "python",
   "pygments_lexer": "ipython3",
   "version": "3.11.7"
  }
 },
 "nbformat": 4,
 "nbformat_minor": 2
}
