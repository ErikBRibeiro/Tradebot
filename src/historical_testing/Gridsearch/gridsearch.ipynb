{
 "cells": [
  {
   "cell_type": "code",
   "execution_count": 9,
   "metadata": {},
   "outputs": [],
   "source": [
    "import sys\n",
    "import os\n",
    "\n",
    "# Defina o caminho base manualmente\n",
    "base_path = os.path.abspath(os.path.join(os.getcwd(), '..'))\n",
    "\n",
    "# Adicione o diretório base ao caminho de pesquisa de módulos\n",
    "sys.path.append(base_path)\n",
    "\n",
    "# Verifique se o caminho foi adicionado corretamente\n",
    "#print(\"Caminhos de pesquisa do sys.path:\", sys.path)\n",
    "\n",
    "# Agora você pode importar utils e outros módulos\n",
    "import utils\n",
    "import setups.emas as emas\n",
    "import setups.stopgain as StopGain\n",
    "import setups.stoploss as StopLoss\n",
    "\n",
    "import itertools\n",
    "import pandas as pd\n",
    "from datetime import datetime\n",
    "import requests\n",
    "import datetime"
   ]
  },
  {
   "cell_type": "code",
   "execution_count": 7,
   "metadata": {},
   "outputs": [],
   "source": [
    "def fetch_candles(symbol, interval, start_str, end_str=None):\n",
    "    url = 'https://api.binance.com/api/v3/klines'\n",
    "    data = []\n",
    "    limit = 1000\n",
    "    start_time = int(pd.to_datetime(start_str).timestamp() * 1000)\n",
    "    end_time = int(pd.to_datetime(end_str).timestamp() * 1000) if end_str else None\n",
    "\n",
    "    while True:\n",
    "        params = {\n",
    "            'symbol': symbol,\n",
    "            'interval': interval,\n",
    "            'startTime': start_time,\n",
    "            'limit': limit\n",
    "        }\n",
    "        if end_time:\n",
    "            params['endTime'] = end_time\n",
    "\n",
    "        response = requests.get(url, params=params)\n",
    "        new_data = response.json()\n",
    "        if not new_data:\n",
    "            break\n",
    "        data.extend(new_data)\n",
    "        start_time = new_data[-1][0] + 1\n",
    "\n",
    "    columns = ['open_time', 'open', 'high', 'low', 'close', 'volume', 'close_time',\n",
    "               'quote_asset_volume', 'number_of_trades', 'taker_buy_base_asset_volume',\n",
    "               'taker_buy_quote_asset_volume', 'ignore']\n",
    "    df = pd.DataFrame(data, columns=columns)\n",
    "    df = df[['open', 'high', 'low', 'close', 'open_time', 'close_time']]\n",
    "    return df\n"
   ]
  },
  {
   "cell_type": "code",
   "execution_count": 8,
   "metadata": {},
   "outputs": [],
   "source": [
    "# Definir os parâmetros e seus intervalos\n",
    "param_grid = {\n",
    "    'short_period': [9, 12, 14],\n",
    "    'long_period': [21, 26, 28],\n",
    "    'stoploss_candles': [10, 14, 20],\n",
    "    'stopgain_percentage': [10, 18, 25]\n",
    "}"
   ]
  },
  {
   "cell_type": "code",
   "execution_count": 10,
   "metadata": {},
   "outputs": [],
   "source": [
    "# Gerar todas as combinações possíveis de parâmetros\n",
    "param_combinations = list(itertools.product(*param_grid.values()))\n",
    "\n",
    "best_performance = None\n",
    "best_params = None"
   ]
  },
  {
   "cell_type": "code",
   "execution_count": 11,
   "metadata": {},
   "outputs": [
    {
     "ename": "AttributeError",
     "evalue": "module 'datetime' has no attribute 'now'",
     "output_type": "error",
     "traceback": [
      "\u001b[1;31m---------------------------------------------------------------------------\u001b[0m",
      "\u001b[1;31mAttributeError\u001b[0m                            Traceback (most recent call last)",
      "Cell \u001b[1;32mIn[11], line 3\u001b[0m\n\u001b[0;32m      1\u001b[0m \u001b[38;5;66;03m# Dados históricos de exemplo\u001b[39;00m\n\u001b[0;32m      2\u001b[0m start_date \u001b[38;5;241m=\u001b[39m \u001b[38;5;124m'\u001b[39m\u001b[38;5;124m2022-12-20\u001b[39m\u001b[38;5;124m'\u001b[39m\n\u001b[1;32m----> 3\u001b[0m end_date \u001b[38;5;241m=\u001b[39m datetime\u001b[38;5;241m.\u001b[39mnow()\u001b[38;5;241m.\u001b[39mstrftime(\u001b[38;5;124m'\u001b[39m\u001b[38;5;124m%\u001b[39m\u001b[38;5;124mY-\u001b[39m\u001b[38;5;124m%\u001b[39m\u001b[38;5;124mm-\u001b[39m\u001b[38;5;132;01m%d\u001b[39;00m\u001b[38;5;124m'\u001b[39m)\n\u001b[0;32m      4\u001b[0m ativo \u001b[38;5;241m=\u001b[39m \u001b[38;5;124m'\u001b[39m\u001b[38;5;124mBTCUSDT\u001b[39m\u001b[38;5;124m'\u001b[39m\n\u001b[0;32m      5\u001b[0m timeframe \u001b[38;5;241m=\u001b[39m \u001b[38;5;124m'\u001b[39m\u001b[38;5;124m15m\u001b[39m\u001b[38;5;124m'\u001b[39m\n",
      "\u001b[1;31mAttributeError\u001b[0m: module 'datetime' has no attribute 'now'"
     ]
    }
   ],
   "source": [
    "# Dados históricos de exemplo\n",
    "start_date = '2023-01-01'\n",
    "end_date = '2024-08-01'\n",
    "end_date = datetime.now().strftime('%Y-%m-%d')\n",
    "ativo = 'BTCUSDT'\n",
    "timeframe = '15m'\n",
    "data = fetch_candles(ativo, timeframe, start_date, end_date)\n",
    "data['close'] = data['close'].astype(float)\n",
    "data['low'] = data['low'].astype(float)\n",
    "data['high'] = data['high'].astype(float)\n"
   ]
  },
  {
   "cell_type": "code",
   "execution_count": null,
   "metadata": {},
   "outputs": [],
   "source": [
    "# Função para avaliar o desempenho da estratégia\n",
    "def evaluate_performance(data, short_period, long_period, stoploss_candles, stopgain_percentage):\n",
    "    saldo = 1000\n",
    "    taxa_por_operacao = 0.0153\n",
    "    comprado = False\n",
    "\n",
    "    data['EMA_short'] = data['close'].ewm(span=short_period, adjust=False).mean()\n",
    "    data['EMA_long'] = data['close'].ewm(span=long_period, adjust=False).mean()\n",
    "\n",
    "    for i in range(max(short_period, long_period), len(data)):\n",
    "        if comprado:\n",
    "            if StopLoss.sell_stoploss(data['low'].iloc[i - 1], stoploss):\n",
    "                loss_percentage = utils.calculate_loss_percentage(buy_price, stoploss)\n",
    "                saldo -= saldo * ((loss_percentage + taxa_por_operacao) / 100)\n",
    "                comprado = False\n",
    "                continue\n",
    "\n",
    "            elif StopGain.sell_stopgain(data['high'].iloc[i - 1], stopgain):\n",
    "                profit = utils.calculate_gain_percentage(buy_price, stopgain)\n",
    "                saldo += saldo * ((profit - taxa_por_operacao) / 100)\n",
    "                comprado = False\n",
    "                continue\n",
    "\n",
    "        if not comprado:\n",
    "            if data['EMA_long'].iloc[i - 2] < data['close'].iloc[i - 2]:\n",
    "                if emas.buy_ema_breakout(data['EMA_short'].iloc[i - 2], data['EMA_short'].iloc[i - 3], data['high'].iloc[i - 2], data['high'].iloc[i - 1]):\n",
    "                    buy_price = data['high'].iloc[i - 2]\n",
    "                    stoploss = StopLoss.set_sell_stoploss_min_candles(data.iloc[i - stoploss_candles:i], stoploss_candles - 1)\n",
    "                    if taxa_por_operacao != 0:\n",
    "                        saldo -= saldo * taxa_por_operacao / 100\n",
    "                    stopgain = StopGain.set_sell_stopgain_percentage(buy_price, stopgain_percentage)\n",
    "                    comprado = True\n",
    "                    continue\n",
    "\n",
    "    performance_metric = saldo - 1000  # Exemplos de métrica de desempenho: saldo final menos saldo inicial\n",
    "    return performance_metric\n",
    "\n",
    "for combination in param_combinations:\n",
    "    params = dict(zip(param_grid.keys(), combination))\n",
    "    \n",
    "    # Avaliar o desempenho da estratégia com os parâmetros atuais\n",
    "    performance_score = evaluate_performance(data, params['short_period'], params['long_period'], params['stoploss_candles'], params['stopgain_percentage'])\n",
    "    \n",
    "    # Registrar a melhor combinação\n",
    "    if best_performance is None or performance_score > best_performance:\n",
    "        best_performance = performance_score\n",
    "        best_params = params\n",
    "\n",
    "print(\"Melhores parâmetros encontrados:\")\n",
    "print(best_params)\n",
    "print(\"Melhor desempenho obtido:\")\n",
    "print(best_performance)\n"
   ]
  }
 ],
 "metadata": {
  "kernelspec": {
   "display_name": "base",
   "language": "python",
   "name": "python3"
  },
  "language_info": {
   "codemirror_mode": {
    "name": "ipython",
    "version": 3
   },
   "file_extension": ".py",
   "mimetype": "text/x-python",
   "name": "python",
   "nbconvert_exporter": "python",
   "pygments_lexer": "ipython3",
   "version": "3.11.7"
  }
 },
 "nbformat": 4,
 "nbformat_minor": 2
}
