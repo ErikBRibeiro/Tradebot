{
 "cells": [
  {
   "cell_type": "code",
   "execution_count": null,
   "metadata": {},
   "outputs": [],
   "source": [
    "import pandas as pd\n",
    "import requests\n",
    "from datetime import datetime\n",
    "\n",
    "def fetch_candles(symbol, interval, start_str, end_str=None):\n",
    "    url = 'https://api.binance.com/api/v3/klines'\n",
    "    data = []\n",
    "    limit = 1000\n",
    "    start_time = int(pd.to_datetime(start_str).timestamp() * 1000)\n",
    "    end_time = int(pd.to_datetime(end_str).timestamp() * 1000) if end_str else None\n",
    "\n",
    "    while True:\n",
    "        params = {\n",
    "            'symbol': symbol,\n",
    "            'interval': interval,\n",
    "            'startTime': start_time,\n",
    "            'limit': limit\n",
    "        }\n",
    "        if end_time:\n",
    "            params['endTime'] = end_time\n",
    "\n",
    "        response = requests.get(url, params=params)\n",
    "        new_data = response.json()\n",
    "        if not new_data:\n",
    "            break\n",
    "        data.extend(new_data)\n",
    "        start_time = new_data[-1][0] + 1\n",
    "\n",
    "    columns = ['Open time', 'Open', 'High', 'Low', 'Close', 'Volume', 'Close time',\n",
    "               'Quote asset volume', 'Number of trades', 'Taker buy base asset volume',\n",
    "               'Taker buy quote asset volume', 'Ignore']\n",
    "    df = pd.DataFrame(data, columns=columns)\n",
    "    df['Open time'] = pd.to_datetime(df['Open time'], unit='ms')\n",
    "    df['Close time'] = pd.to_datetime(df['Close time'], unit='ms')\n",
    "    df.set_index('Open time', inplace=True)\n",
    "    df = df[['Open', 'High', 'Low', 'Close']]\n",
    "    return df\n",
    "\n",
    "start_date = (datetime.now() - pd.DateOffset(years=4)).strftime('%Y-%m-%d')\n",
    "end_date = datetime.now().strftime('%Y-%m-%d')\n",
    "\n",
    "btc_data = fetch_candles('ETHUSDT', '1d', start_date, end_date)\n",
    "\n",
    "\n",
    "btc_data.to_csv('ETH_daily_candles2.csv')\n",
    "\n",
    "print(btc_data.head())"
   ]
  }
 ],
 "metadata": {
  "language_info": {
   "name": "python"
  }
 },
 "nbformat": 4,
 "nbformat_minor": 2
}
